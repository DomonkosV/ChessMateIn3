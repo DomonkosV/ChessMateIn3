{
  "cells": [
    {
      "cell_type": "code",
      "execution_count": null,
      "metadata": {
        "id": "PmFGw1Y0ziNZ"
      },
      "outputs": [],
      "source": [
        "pip install chess"
      ]
    },
    {
      "cell_type": "code",
      "execution_count": null,
      "metadata": {
        "id": "IIDTZXupOzS9"
      },
      "outputs": [],
      "source": [
        "import chess"
      ]
    },
    {
      "cell_type": "code",
      "execution_count": null,
      "metadata": {
        "id": "x7xnVew3SvMU"
      },
      "outputs": [],
      "source": [
        "def b_or_w(fen):\n",
        "  return(fen.split(\" \",1)[1][0])\n",
        "\n",
        "def ends(board):\n",
        "  outcome = board.outcome()\n",
        "  if not outcome:\n",
        "    return False\n",
        "  else:\n",
        "    return True\n",
        "\n",
        "def result(board, bw):\n",
        "  outcome = board.outcome()\n",
        "  a = 1\n",
        "  if bw == \"b\":\n",
        "    a = -1\n",
        "  if ends(board):\n",
        "    if outcome.winner == chess.WHITE:\n",
        "      return a\n",
        "    elif outcome.winner == chess.BLACK:\n",
        "      return -a\n",
        "    else:\n",
        "      return 0\n",
        "  return 100"
      ]
    },
    {
      "cell_type": "code",
      "execution_count": null,
      "metadata": {
        "id": "Q_-HeVIzZJkh"
      },
      "outputs": [],
      "source": [
        "def solver(board, x):\n",
        "\n",
        "  winning_moves=[]\n",
        "  move1 = list(board.legal_moves)\n",
        "  \n",
        "  for m1 in move1:  #1. lépések halmaza\n",
        "\n",
        "    board1 = chess.Board(board.fen())\n",
        "    board1.push(m1)\n",
        "    \n",
        "    if result(board1, x) == 1: #nyertünk akkor kész\n",
        "      return m1\n",
        "    elif result(board1, x) <= 0: #patt akkor tovább lépünk\n",
        "      continue\n",
        "    else:\n",
        "\n",
        "      move2 = list(board1.legal_moves)  #2. lépések halmaza\n",
        "\n",
        "      for m2 in move2:\n",
        "        board2 = chess.Board(board1.fen())\n",
        "\n",
        "        pot_3 = True\n",
        "        board2.push(m2)\n",
        "        if result(board2, x) <= 0: #kikaptunk/patt új 1. lépés\n",
        "          pot_3 = False\n",
        "          break\n",
        "        else:\n",
        "\n",
        "          move3 = list(board2.legal_moves)  #3. lépések halmaza\n",
        "\n",
        "          for m3 in move3:\n",
        "            board3 = chess.Board(board2.fen())\n",
        "            board3.push(m3)\n",
        "\n",
        "            if result(board3, x) <= 0: #patt, ehelyett a lépés helyett a következő\n",
        "              continue\n",
        "            elif result(board3, x) == 1: #nyertünk, ellenfél lépésén tovább iterálunk\n",
        "              pot_3 = True\n",
        "              break\n",
        "            else:\n",
        "\n",
        "              move4 = list(board3.legal_moves)  #4. lépések halmaza\n",
        "\n",
        "              for m4 in move4:\n",
        "                board4 = chess.Board(board3.fen())\n",
        "                pot_3 = True\n",
        "                pot_5 = False\n",
        "                board4.push(m4)\n",
        "                if result(board4, x) <= 0: #kikaptunk/patt új 3. lépés\n",
        "                  pot_3 = False\n",
        "                  break\n",
        "                else:\n",
        "\n",
        "                  move5 = list(board4.legal_moves)  #5. lépések halmaza\n",
        "\n",
        "                  for m5 in move5:\n",
        "\n",
        "                    board5 = chess.Board(board4.fen())\n",
        "                    board5.push(m5)\n",
        "\n",
        "                    if result(board5, x) == 1: #nyertünk, ellenfél lépésén tovább iterálunk\n",
        "                      pot_5 = True #van\n",
        "                      break\n",
        "\n",
        "                  if not pot_5:  #nincs nyerő lépés egyik esetben (nincs potenciál), ezért 3. lépésben tovább iterálunk\n",
        "                    pot_3 = False\n",
        "                    break\n",
        "\n",
        "              if pot_3:\n",
        "                break\n",
        "              if not pot_3:\n",
        "                pass\n",
        "\n",
        "          if not pot_3:\n",
        "            break\n",
        "      if pot_3:\n",
        "        return m1\n",
        "  return print(\"Nincsen matt 3 lépésből\")\n",
        "\n",
        "\n"
      ]
    },
    {
      "cell_type": "code",
      "execution_count": null,
      "metadata": {
        "id": "hSe2alB1lyX0"
      },
      "outputs": [],
      "source": [
        "\n",
        "def start_solving():\n",
        "  board=chess.Board()\n",
        "  while not board.outcome():\n",
        "    FEN=input(\"Paste FEN\")\n",
        "    board=chess.Board(FEN)\n",
        "      #print(board)\n",
        "    move=solver(board, b_or_w(FEN))\n",
        "    print(move)\n",
        "\n",
        "    board_utan=chess.Board(FEN)\n",
        "    board_utan.push(move)\n",
        "    board=board_utan\n",
        "\n",
        "start_solving()\n",
        "\n",
        "\n"
      ]
    }
  ],
  "metadata": {
    "colab": {
      "provenance": []
    },
    "kernelspec": {
      "display_name": "Python 3",
      "name": "python3"
    },
    "language_info": {
      "name": "python"
    }
  },
  "nbformat": 4,
  "nbformat_minor": 0
}
